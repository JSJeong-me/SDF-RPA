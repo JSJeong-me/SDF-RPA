{
 "cells": [
  {
   "cell_type": "markdown",
   "metadata": {},
   "source": [
    "### Hangul \n",
    "### Example 1 단어 Input"
   ]
  },
  {
   "cell_type": "code",
   "execution_count": null,
   "metadata": {},
   "outputs": [],
   "source": []
  },
  {
   "cell_type": "code",
   "execution_count": 1,
   "metadata": {},
   "outputs": [],
   "source": [
    "import win32com.client as win32\n",
    "import win32gui\n",
    "import time\n",
    "import shutil  # 파일복사용 모듈\n",
    "\n",
    "hwp = win32.gencache.EnsureDispatch(\"HWPFrame.HwpObject\")  # Word.application\n",
    "\n",
    "hwp = win32.Dispatch('HWPFrame.HwpObject')"
   ]
  },
  {
   "cell_type": "code",
   "execution_count": 2,
   "metadata": {},
   "outputs": [
    {
     "data": {
      "text/plain": [
       "False"
      ]
     },
     "execution_count": 2,
     "metadata": {},
     "output_type": "execute_result"
    }
   ],
   "source": [
    "hwp.RegisterModule(\"FilePathCheckDLL\", \"SecurityModule\")  # 보안모듈"
   ]
  },
  {
   "cell_type": "code",
   "execution_count": 3,
   "metadata": {},
   "outputs": [],
   "source": [
    "#hwnd = win32gui.FindWindow(None, '빈 문서 1 - 한글')\n",
    "#win32gui.ShowWindow(hwnd, 5)"
   ]
  },
  {
   "cell_type": "code",
   "execution_count": 4,
   "metadata": {},
   "outputs": [
    {
     "data": {
      "text/plain": [
       "'.\\\\template1.hwp'"
      ]
     },
     "execution_count": 4,
     "metadata": {},
     "output_type": "execute_result"
    }
   ],
   "source": [
    "shutil.copyfile(r\".\\template1-org.hwp\",  # 원본은 그대로 두고,\n",
    "                r\".\\template1.hwp\")  # 복사한 파일을 수정하려고 함."
   ]
  },
  {
   "cell_type": "code",
   "execution_count": 5,
   "metadata": {},
   "outputs": [
    {
     "data": {
      "text/plain": [
       "False"
      ]
     },
     "execution_count": 5,
     "metadata": {},
     "output_type": "execute_result"
    }
   ],
   "source": [
    "hwp.Open(r\".\\template1.hwp\",\"HWP\",None)"
   ]
  },
  {
   "cell_type": "code",
   "execution_count": 6,
   "metadata": {},
   "outputs": [
    {
     "data": {
      "text/plain": [
       "''"
      ]
     },
     "execution_count": 6,
     "metadata": {},
     "output_type": "execute_result"
    }
   ],
   "source": [
    "hwp.GetFieldList(\"HWP\",None)"
   ]
  },
  {
   "cell_type": "code",
   "execution_count": 7,
   "metadata": {},
   "outputs": [],
   "source": [
    "field_list = [i for i in hwp.GetFieldList(\"HWP\",None).split(\"\\x02\")]  # 한/글 안의 누름틀 목록 불러오기"
   ]
  },
  {
   "cell_type": "code",
   "execution_count": 8,
   "metadata": {},
   "outputs": [
    {
     "data": {
      "text/plain": [
       "['']"
      ]
     },
     "execution_count": 8,
     "metadata": {},
     "output_type": "execute_result"
    }
   ],
   "source": [
    "field_list"
   ]
  },
  {
   "cell_type": "code",
   "execution_count": 9,
   "metadata": {},
   "outputs": [],
   "source": [
    "time.sleep(3)\n",
    "hwp.PutFieldText('진짜제목1', '가짜제목')\n",
    "hwp.PutFieldText('체크2', 'V')\n",
    "hwp.PutFieldText('담당자이름', 'GOOD GUY')\n",
    "hwp.PutFieldText('field2', '제목12345')\n",
    "time.sleep(3)"
   ]
  },
  {
   "cell_type": "code",
   "execution_count": null,
   "metadata": {},
   "outputs": [],
   "source": []
  },
  {
   "cell_type": "code",
   "execution_count": 10,
   "metadata": {},
   "outputs": [
    {
     "data": {
      "text/plain": [
       "'\\npage = 1\\nfor field in field_list:  # 모든 누름틀에 각각,\\n        hwp.MoveToField(f\\'{field}{{{{{page}}}}}\\')  # 커서를 해당 누름틀로 이동(작성과정을 지켜보기 위함. 없어도 무관)\\n        hwp.PutFieldText(f\\'{field}{{{{{page}}}}}\\',  # f\"{{{{{page}}}}}\"는 \"{{1}}\"로 입력된다. {를 출력하려면 {{를 입력.\\n                         excel[field].iloc[page])  # hwp.PutFieldText(\"index{{1}}\") 식으로 실행될 것.\\n    print(f\\'{page + 1}:{excel.name[page]}\\')  # 현재 입력이 진행되고 있는 한/글문서 페이지번호를 콘솔창에 출력\\n'"
      ]
     },
     "execution_count": 10,
     "metadata": {},
     "output_type": "execute_result"
    }
   ],
   "source": [
    "'''\n",
    "page = 1\n",
    "for field in field_list:  # 모든 누름틀에 각각,\n",
    "        hwp.MoveToField(f'{field}{{{{{page}}}}}')  # 커서를 해당 누름틀로 이동(작성과정을 지켜보기 위함. 없어도 무관)\n",
    "        hwp.PutFieldText(f'{field}{{{{{page}}}}}',  # f\"{{{{{page}}}}}\"는 \"{{1}}\"로 입력된다. {를 출력하려면 {{를 입력.\n",
    "                         excel[field].iloc[page])  # hwp.PutFieldText(\"index{{1}}\") 식으로 실행될 것.\n",
    "    print(f'{page + 1}:{excel.name[page]}')  # 현재 입력이 진행되고 있는 한/글문서 페이지번호를 콘솔창에 출력\n",
    "'''"
   ]
  },
  {
   "cell_type": "code",
   "execution_count": 11,
   "metadata": {},
   "outputs": [],
   "source": [
    "hwp.Save(\"HWP\")\n",
    "hwp.Quit()"
   ]
  },
  {
   "cell_type": "code",
   "execution_count": null,
   "metadata": {},
   "outputs": [],
   "source": []
  }
 ],
 "metadata": {
  "kernelspec": {
   "display_name": "Python 3",
   "language": "python",
   "name": "python3"
  },
  "language_info": {
   "codemirror_mode": {
    "name": "ipython",
    "version": 3
   },
   "file_extension": ".py",
   "mimetype": "text/x-python",
   "name": "python",
   "nbconvert_exporter": "python",
   "pygments_lexer": "ipython3",
   "version": "3.7.6"
  }
 },
 "nbformat": 4,
 "nbformat_minor": 4
}
